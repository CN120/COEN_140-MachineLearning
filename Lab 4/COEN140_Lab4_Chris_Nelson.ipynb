{
 "cells": [
  {
   "cell_type": "code",
   "execution_count": 2,
   "metadata": {},
   "outputs": [
    {
     "name": "stdout",
     "output_type": "stream",
     "text": [
      "Training RMSE:  0.2668952662247016\n",
      "Testing RMSE:   0.29737015487371726\n"
     ]
    },
    {
     "data": {
      "text/plain": [
       "array([ 0.09848129,  0.11188928, -0.0308644 , ...,  0.21702876,\n",
       "       -0.06939053,  0.18168962])"
      ]
     },
     "execution_count": 2,
     "metadata": {},
     "output_type": "execute_result"
    }
   ],
   "source": [
    "import numpy as np\n",
    "\n",
    "#W = dot(inverse(dot(transpose(x), x)), dot(transpose(x),y))\n",
    "#W = weights vector\n",
    "#x = feature_matrix\n",
    "#y= crime_rates vector\n",
    "\n",
    "\n",
    "W = None\n",
    "\n",
    "def readFromFile(file= \"crime-train.txt\"):\n",
    "    crime_rates = []\n",
    "    feature_matrix = []\n",
    "    f=open(file, \"r\")\n",
    "    f.readline()[:-1].split('\\t')\n",
    "    contents = f.readlines()\n",
    "    for line in contents:\n",
    "        line = line[:-1]\n",
    "        feature_matrix.append(line.split('\\t'))\n",
    "        crime_rates.append(feature_matrix[-1].pop(0))\n",
    "        feature_matrix[-1].append('1.00') #dummy\n",
    "    return (feature_matrix, crime_rates)\n",
    "\n",
    "\n",
    "\n",
    "def computeLinear(file = \"crime-train.txt\"):\n",
    "    global W\n",
    "    feature_matrix, crime_rates = readFromFile(file)\n",
    "    crime_rates = np.float64(crime_rates)\n",
    "    feature_matrix = np.float64(feature_matrix)\n",
    "    if \"train\" in file:\n",
    "        W = np.dot(np.linalg.inv(np.dot(np.transpose(feature_matrix), feature_matrix)), np.dot(np.transpose(feature_matrix),crime_rates))\n",
    "    pred_rates = np.dot(feature_matrix, np.transpose(W))\n",
    "    N = crime_rates.size\n",
    "    rmse = np.sqrt(np.sum(np.square(pred_rates-crime_rates))/N)\n",
    "    return rmse\n",
    "\n",
    "    \n",
    "def problem1(samples):\n",
    "    computeLinear(\"crime-train.txt\")\n",
    "    pred_rates = np.dot(samples, np.transpose(W))\n",
    "    return pred_rates\n",
    "\n",
    "    \n",
    "print(\"Training RMSE: \",computeLinear(\"crime-train.txt\"))\n",
    "print(\"Testing RMSE:  \", computeLinear(\"crime-test.txt\"))\n",
    "dummy = np.float64(readFromFile()[0])\n",
    "problem1(dummy)"
   ]
  },
  {
   "cell_type": "markdown",
   "metadata": {},
   "source": [
    "**Linear Regression RMSE Values**\n",
    "\n",
    "training: 0.12768967421762195 <br>\n",
    "testing: 0.14583464490949322\n"
   ]
  },
  {
   "cell_type": "code",
   "execution_count": 25,
   "metadata": {},
   "outputs": [
    {
     "name": "stdout",
     "output_type": "stream",
     "text": [
      "Training RMSE:  0.13134320424615792\n",
      "Testing RMSE:   0.1476569846852611\n"
     ]
    },
    {
     "data": {
      "text/plain": [
       "array([0.2773426 , 0.31043808, 0.21374724, ..., 0.41302751, 0.15778842,\n",
       "       0.43135025])"
      ]
     },
     "execution_count": 25,
     "metadata": {},
     "output_type": "execute_result"
    }
   ],
   "source": [
    "def computeRidge(file = \"crime-train.txt\", lam = 100):\n",
    "    global W\n",
    "    feature_matrix, crime_rates = readFromFile(file)\n",
    "    crime_rates = np.float64(crime_rates)\n",
    "    feature_matrix = np.float64(feature_matrix)\n",
    "    if \"train\" in file:\n",
    "        W = np.dot(np.linalg.inv(np.dot(np.transpose(feature_matrix),feature_matrix)+np.dot(lam,np.identity(feature_matrix.shape[1]))), np.dot(np.transpose(feature_matrix),crime_rates))   \n",
    "    pred_rates = np.dot(feature_matrix, np.transpose(W))\n",
    "    N = crime_rates.size\n",
    "    rmse = np.sqrt(np.sum(np.square(pred_rates-crime_rates))/N)\n",
    "    return rmse\n",
    "\n",
    "def problem2(samples):\n",
    "    computeRidge()\n",
    "    pred_rates = np.dot(samples, np.transpose(W))\n",
    "    return pred_rates\n",
    "\n",
    "print(\"Training RMSE: \",computeRidge(\"crime-train.txt\"))\n",
    "print(\"Testing RMSE:  \", computeRidge(\"crime-test.txt\"))\n",
    "computeRidge()\n",
    "dummy = np.float64(readFromFile()[0])\n",
    "problem2(dummy)"
   ]
  },
  {
   "cell_type": "markdown",
   "metadata": {},
   "source": [
    "**Ridge Regression RMSE Values**\n",
    "\n",
    "training: 0.13134320424615792 <br>\n",
    "testing: 0.1476569846852611"
   ]
  },
  {
   "cell_type": "code",
   "execution_count": null,
   "metadata": {},
   "outputs": [],
   "source": []
  }
 ],
 "metadata": {
  "kernelspec": {
   "display_name": "Python 3",
   "language": "python",
   "name": "python3"
  },
  "language_info": {
   "codemirror_mode": {
    "name": "ipython",
    "version": 3
   },
   "file_extension": ".py",
   "mimetype": "text/x-python",
   "name": "python",
   "nbconvert_exporter": "python",
   "pygments_lexer": "ipython3",
   "version": "3.7.3"
  }
 },
 "nbformat": 4,
 "nbformat_minor": 2
}

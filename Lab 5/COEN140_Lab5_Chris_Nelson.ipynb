{
 "cells": [
  {
   "cell_type": "code",
   "execution_count": 3,
   "metadata": {},
   "outputs": [
    {
     "name": "stdout",
     "output_type": "stream",
     "text": [
      "Minimum RMSE val:  0.13591585919851973\n",
      "Best λ is:  25.0\n"
     ]
    },
    {
     "data": {
      "text/plain": [
       "25.0"
      ]
     },
     "execution_count": 3,
     "metadata": {},
     "output_type": "execute_result"
    }
   ],
   "source": [
    "import numpy as np\n",
    "W = None\n",
    "\n",
    "def readFromFile(file= \"crime-train.txt\"):\n",
    "    crime_rates = []\n",
    "    feature_matrix = []\n",
    "    f=open(file, \"r\")\n",
    "    f.readline()[:-1].split('\\t')\n",
    "    contents = f.readlines()\n",
    "    for line in contents:\n",
    "        line = line[:-1]\n",
    "        feature_matrix.append(line.split('\\t'))\n",
    "        crime_rates.append(feature_matrix[-1].pop(0))\n",
    "        feature_matrix[-1].append('1.00') #dummy\n",
    "    return (feature_matrix, crime_rates)\n",
    "\n",
    "def RMSE(train, test, train_rates, validation, lam):\n",
    "    global W\n",
    "    train = np.float64(train)\n",
    "    test = np.float64(test)\n",
    "    train_rates = np.float64(train_rates)\n",
    "    validation = np.float64(validation)\n",
    "    W = np.dot(np.linalg.inv(np.dot(np.transpose(train),train)+np.dot(lam,np.identity(train.shape[1]))), np.dot(np.transpose(train),train_rates))   \n",
    "    \n",
    "    pred_rates = np.dot(test, np.transpose(W))\n",
    "    rmse = np.sqrt(np.average(np.square(pred_rates-validation)))\n",
    "    return rmse\n",
    "\n",
    "\n",
    "\n",
    "def findLambda():\n",
    "    train_x, train_y = readFromFile(\"crime-train.txt\")\n",
    "    div = int(len(train_x)/5)\n",
    "    rmse_list = []\n",
    "    lam = 400\n",
    "    for n in range(10):\n",
    "        lam = 400/(2**n)\n",
    "        tot = 0\n",
    "        for i in range(5):\n",
    "            tot+= RMSE(train_x[:(i*div)]+train_x[(i+1)*div:], train_x[i*div:(i+1)*div], train_y[:(i*div)]+train_y[(i+1)*div:], train_y[i*div:(i+1)*div], lam)\n",
    "        rmse_list.append(tot/5)\n",
    "    RMSE_min = min(rmse_list)\n",
    "    print(\"Minimum RMSE val: \", RMSE_min)\n",
    "    idx = rmse_list.index(RMSE_min)\n",
    "    lam = 400/2**idx\n",
    "    print(\"Best λ is: \", lam)\n",
    "    return lam\n",
    "    \n",
    "\n",
    "findLambda()\n",
    "\n",
    "\n",
    "    \n"
   ]
  },
  {
   "cell_type": "markdown",
   "metadata": {},
   "source": [
    "**Question 1: Choose best lambda**\n",
    "\n",
    "Best λ is:  25.0 <br>\n",
    "This is because when λ=25, the average RMSE is less than any other RMSEs calculated for the list of tested lambdas. AKA, the RMSE is minimized when lambda is 25 (vs any other lamda where λ=400/2^n and n<10)"
   ]
  },
  {
   "cell_type": "code",
   "execution_count": 44,
   "metadata": {},
   "outputs": [
    {
     "name": "stdout",
     "output_type": "stream",
     "text": [
      "Training RMSE: \n",
      "0.12774421638800051\n"
     ]
    },
    {
     "data": {
      "text/plain": [
       "array([0.28323621, 0.33229617, 0.22719064, ..., 0.43300044, 0.17554691,\n",
       "       0.4028774 ])"
      ]
     },
     "execution_count": 44,
     "metadata": {},
     "output_type": "execute_result"
    }
   ],
   "source": [
    "\n",
    "#W = dot(inverse(dot(transpose(x), x)), dot(transpose(x),y))\n",
    "#W = weights vector\n",
    "#x = feature_matrix\n",
    "#y= crime_rates vector\n",
    "\n",
    "\n",
    "W = None\n",
    "\n",
    "def useFile(file = \"crime-train.txt\"):\n",
    "    x, y = readFromFile(file)\n",
    "    return computeLinear(x,y,(\"train\" in file))\n",
    "\n",
    "def computeLinear(feature_matrix, crime_rates=None, training=False):\n",
    "    global W,a\n",
    "    if crime_rates is not None:\n",
    "        crime_rates = np.float64(crime_rates)\n",
    "    feature_matrix = np.float64(feature_matrix)\n",
    "    \n",
    "    if training==True:\n",
    "        W = np.random.normal(0.5,0.13, len(feature_matrix[0]))\n",
    "        i = 0\n",
    "        E = 1\n",
    "        while E > 0.00001 and i < 60000:\n",
    "            \n",
    "            wt = W\n",
    "            W = W + (a * (np.dot(np.transpose(feature_matrix), (crime_rates - np.dot(feature_matrix, np.transpose(W))))))\n",
    "            E = np.linalg.norm(W-wt)\n",
    "            i+=1\n",
    "        #print(\"Number of iterations: \", i)\n",
    "    pred_rates = np.dot(feature_matrix, np.transpose(W))\n",
    "    if crime_rates is not None:\n",
    "        N = crime_rates.size\n",
    "        rmse = np.sqrt(np.sum(np.square(pred_rates-crime_rates))/N)\n",
    "        print(rmse)\n",
    "    return pred_rates\n",
    "\n",
    "def problem2(samples):\n",
    "    print(\"Training RMSE: \")\n",
    "    useFile(\"crime-train.txt\")\n",
    "    return computeLinear(samples)\n",
    "\n",
    "a = 0.00005 #alpha\n",
    "\n",
    "\n",
    "x = readFromFile(\"crime-train.txt\")[0]\n",
    "problem2(x)\n",
    "\n"
   ]
  },
  {
   "cell_type": "markdown",
   "metadata": {},
   "source": [
    "## Error Rates\n",
    "---\n",
    "with alpha = 0.00005\n",
    "### Lab 5 Values\n",
    "Training RMSE:  0.12773555556576827 <br>\n",
    "Testing RMSE:  0.1462169250570528 \n",
    "\n",
    "### Lab 4 Vales\n",
    "Training: 0.12768967421762195 <br>\n",
    "Testing: 0.14583464490949322"
   ]
  },
  {
   "cell_type": "code",
   "execution_count": 62,
   "metadata": {},
   "outputs": [
    {
     "name": "stdout",
     "output_type": "stream",
     "text": [
      "[0.14951625267813198, 0.1406985200985616, 0.1372825498718912, 0.13617096614486313, 0.13593655710651634, 0.13604618312935718, 0.1362917491605388, 0.1365014936380708, 0.13681500139272013, 0.13709085712766256]\n",
      "Best λ is:  25.0\n"
     ]
    },
    {
     "data": {
      "text/plain": [
       "array([0.28422513, 0.32553862, 0.21645777, ..., 0.42521602, 0.17205257,\n",
       "       0.42755292])"
      ]
     },
     "execution_count": 62,
     "metadata": {},
     "output_type": "execute_result"
    }
   ],
   "source": [
    "W = None\n",
    "def rr_RMSE(train, test, train_rates, validation, lam):\n",
    "    global W\n",
    "    train = np.float64(train)\n",
    "    test = np.float64(test)\n",
    "    train_rates = np.float64(train_rates)\n",
    "    validation = np.float64(validation)\n",
    "    \n",
    "    \n",
    "    W = np.random.normal(0.5,0.13, len(train[0]))\n",
    "    j = 0\n",
    "    E = 1\n",
    "    while E > 0.00001 and j < 60000:\n",
    "        wt = W\n",
    "        W = wt + (a * (np.dot(np.transpose(train), (train_rates - np.dot(train, np.transpose(W)))) -  np.dot(lam,wt))) \n",
    "        E = np.linalg.norm(W-wt)\n",
    "        j+=1\n",
    "#     print(j)\n",
    "    pred_rates = np.dot(test, np.transpose(W))\n",
    "    rmse = np.sqrt(np.average(np.square(pred_rates-validation)))\n",
    "    return rmse\n",
    "\n",
    "def findLambda():\n",
    "    train_x, train_y = readFromFile(\"crime-train.txt\")\n",
    "    div = int(len(train_x)/5)\n",
    "    rmse_list = []\n",
    "    lam = 400\n",
    "    for n in range(10):\n",
    "        lam = 400/(2**n)\n",
    "        tot = 0\n",
    "        for i in range(5):\n",
    "            tot+= rr_RMSE(train_x[:(i*div)]+train_x[(i+1)*div:], train_x[i*div:(i+1)*div], train_y[:(i*div)]+train_y[(i+1)*div:], train_y[i*div:(i+1)*div], lam)\n",
    "        rmse_list.append(tot/5)\n",
    "    RMSE_min = min(rmse_list)  \n",
    "    print(rmse_list)\n",
    "    idx = rmse_list.index(RMSE_min)\n",
    "    lam = 400/2**idx\n",
    "    print(\"Best λ is: \", lam)\n",
    "    return lam\n",
    "    \n",
    "    \n",
    "    \n",
    "\n",
    "\n",
    "\n",
    "\n",
    "    \n",
    "    \n",
    "\n",
    "    \n",
    "def computeRidge(feature_matrix, crime_rates, lam=100, training=False):\n",
    "    global W\n",
    "    crime_rates = np.float64(crime_rates)\n",
    "    feature_matrix = np.float64(feature_matrix)\n",
    "    if training:\n",
    "        W = np.random.normal(0.5,0.13, len(feature_matrix[0]))\n",
    "        i = 0\n",
    "        E = 1\n",
    "        while E > 0.00001 and i < 60000:\n",
    "            wt = W\n",
    "            W = W + (a * (np.dot(np.transpose(feature_matrix), (crime_rates - np.dot(feature_matrix, np.transpose(W)))) -  np.dot(lam,wt)))\n",
    "            E = np.linalg.norm(W-wt)\n",
    "            i+=1\n",
    "    pred_rates = np.dot(feature_matrix, np.transpose(W))\n",
    "    N = crime_rates.size\n",
    "    rmse = np.sqrt(np.sum(np.square(pred_rates-crime_rates))/N)\n",
    "    return rmse,pred_rates\n",
    "\n",
    "def problem3(samples):\n",
    "    x,y = readFromFile(\"crime-train.txt\")\n",
    "    computeRidge(x,y,lam = findLambda(),training=True)\n",
    "    pred_rates = np.dot(samples, np.transpose(W))\n",
    "    return pred_rates\n",
    "\n",
    "a = 0.00005 #alpha\n",
    "# lam = findLambda()\n",
    "# x,y = readFromFile(\"crime-train.txt\")\n",
    "# print(\"Training RMSE: \",computeRidge(x,y, lam, True)[0])\n",
    "# x,y = readFromFile(\"crime-test.txt\")\n",
    "# print(\"Testing RMSE:  \", computeRidge(x,y,lam)[0])\n",
    "dummy = np.float64(readFromFile()[0])\n",
    "problem3(dummy)\n",
    "\n",
    "\n",
    "\n",
    "\n",
    "\n"
   ]
  },
  {
   "cell_type": "markdown",
   "metadata": {},
   "source": [
    "### RMSE Values\n",
    "Training RMSE:  0.12880619460733073 <br>\n",
    "Testing RMSE:   0.14574126271030427\n",
    "\n",
    "\n",
    "found Best λ is:  25.0 same as problem 1"
   ]
  },
  {
   "cell_type": "code",
   "execution_count": null,
   "metadata": {},
   "outputs": [],
   "source": []
  }
 ],
 "metadata": {
  "kernelspec": {
   "display_name": "Python 3",
   "language": "python",
   "name": "python3"
  },
  "language_info": {
   "codemirror_mode": {
    "name": "ipython",
    "version": 3
   },
   "file_extension": ".py",
   "mimetype": "text/x-python",
   "name": "python",
   "nbconvert_exporter": "python",
   "pygments_lexer": "ipython3",
   "version": "3.7.3"
  }
 },
 "nbformat": 4,
 "nbformat_minor": 2
}

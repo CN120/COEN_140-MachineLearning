{
 "cells": [
  {
   "cell_type": "code",
   "execution_count": 38,
   "metadata": {},
   "outputs": [
    {
     "name": "stdout",
     "output_type": "stream",
     "text": [
      "[1, 3, 5, 7, 9, 11, 13, 15, 17, 19, 21, 23]\n"
     ]
    }
   ],
   "source": [
    "#Problem 1\n",
    "def OddFunction(n):\n",
    "    ret_list = []\n",
    "    for i in range(1,n+1):\n",
    "        if (i%2) == 1:\n",
    "            ret_list.append(i)\n",
    "    return ret_list\n",
    "\n",
    "def OddFunctionTwo(n):\n",
    "    return [x for x in range(1,n+1) if x%2==1]\n",
    "\n",
    "print(OddFunctionTwo(23))"
   ]
  },
  {
   "cell_type": "code",
   "execution_count": 40,
   "metadata": {},
   "outputs": [
    {
     "name": "stdout",
     "output_type": "stream",
     "text": [
      "[['Daniel', '21', 'MECH'], ['Joe', '22', 'BIO'], ['Mike', '22', 'COEN'], ['Pedro', '22', 'AMTH'], ['Ryan', '19', 'ELEN']]\n",
      "\n",
      "[['Ryan', '19', 'ELEN'], ['Daniel', '21', 'MECH'], ['Joe', '22', 'BIO'], ['Mike', '22', 'COEN'], ['Pedro', '22', 'AMTH']]\n"
     ]
    }
   ],
   "source": [
    "#problem 2\n",
    "import operator \n",
    "def readFunction():\n",
    "    f=open(\"/Users/chrisnelson/Documents/python/Machine Learning/Lab1/students.csv\", \"r\")\n",
    "    contents = f.readlines()\n",
    "    for i in range(len(contents)):\n",
    "        contents[i] = contents[i][:-1]\n",
    "        contents[i] = contents[i].split(',')\n",
    "    return contents\n",
    "\n",
    "def secondElmt(elmts):\n",
    "    return elmts[1]\n",
    "\n",
    "students = readFunction()\n",
    "students.sort()\n",
    "print(students)\n",
    "print()\n",
    "students.sort(key=operator.itemgetter(1)) #this is faster\n",
    "print(students)\n"
   ]
  },
  {
   "cell_type": "code",
   "execution_count": 28,
   "metadata": {},
   "outputs": [
    {
     "name": "stdout",
     "output_type": "stream",
     "text": [
      "Most frequent character: l\n"
     ]
    }
   ],
   "source": [
    "#problem 3\n",
    "def charCounter(string):\n",
    "    max_val = 0\n",
    "    max_letter = string[0]\n",
    "    charDict = {}\n",
    "    for letter in string:\n",
    "        charDict[letter] = charDict.get(letter,0) #adds default values on the fly\n",
    "        x = charDict[letter] = charDict[letter]+1\n",
    "        if x>max_val:\n",
    "            max_val = x\n",
    "            max_letter = letter          \n",
    "    if max_letter == ' ':\n",
    "        max_letter = \"'space'\"\n",
    "    return max_letter\n",
    "\n",
    "\n",
    "print(\"Most frequent character:\",charCounter(\"Hello World\"))\n",
    "#will only return one character even if others share same frequency\n"
   ]
  },
  {
   "cell_type": "code",
   "execution_count": 23,
   "metadata": {},
   "outputs": [
    {
     "name": "stdout",
     "output_type": "stream",
     "text": [
      "Calculating 500! took 7.082199999786098e-05 seconds\n"
     ]
    }
   ],
   "source": [
    "#problem 4\n",
    "import math, time\n",
    "n = 500\n",
    "start = time.perf_counter()\n",
    "x = math.factorial(n)\n",
    "end = time.perf_counter()\n",
    "#print(str(n)+\"!\",\"=\",str(x))\n",
    "print(\"Calculating\", str(n) + \"!\", \"took\", str(end-start), \"seconds\")\n"
   ]
  }
 ],
 "metadata": {
  "kernelspec": {
   "display_name": "Python 3",
   "language": "python",
   "name": "python3"
  },
  "language_info": {
   "codemirror_mode": {
    "name": "ipython",
    "version": 3
   },
   "file_extension": ".py",
   "mimetype": "text/x-python",
   "name": "python",
   "nbconvert_exporter": "python",
   "pygments_lexer": "ipython3",
   "version": "3.7.3"
  }
 },
 "nbformat": 4,
 "nbformat_minor": 2
}

{
 "cells": [
  {
   "cell_type": "code",
   "execution_count": 21,
   "metadata": {},
   "outputs": [
    {
     "name": "stdout",
     "output_type": "stream",
     "text": [
      "loop addition took 0.00872492790222168 seconds\n",
      "operator addition took 3.0994415283203125e-05 seconds\n"
     ]
    }
   ],
   "source": [
    "#Problem 5\n",
    "import numpy as np\n",
    "import time\n",
    "\n",
    "array1 = np.ones(10000).reshape(100,100)\n",
    "array2 = np.ones(10000).reshape(100,100)\n",
    "\n",
    "def LoopAdd():\n",
    "    time1 = time.time()\n",
    "    for i in range(100):\n",
    "        for j in range(100):\n",
    "            array1[i][j] = array1[i][j]+array2[i][j]\n",
    "    time2=time.time()\n",
    "    return time2-time1\n",
    "\n",
    "def OperatorAdd():\n",
    "    time1 = time.time()\n",
    "    array1+array2\n",
    "    time2 = time.time()\n",
    "    return time2-time1\n",
    "\n",
    "print(\"loop addition took\",LoopAdd(),\"seconds\")\n",
    "print(\"operator addition took\", OperatorAdd(), \"seconds\")"
   ]
  },
  {
   "cell_type": "code",
   "execution_count": 20,
   "metadata": {
    "scrolled": true
   },
   "outputs": [
    {
     "name": "stdout",
     "output_type": "stream",
     "text": [
      "Standard Deviation loop: 0.00018232005142134697\n",
      "Standard Deviation operator: 2.982690093276463e-06\n",
      "Average of loop: 0.0075613632202148435\n",
      "Average of operator: 8.281946182250977e-06\n"
     ]
    },
    {
     "data": {
      "text/plain": [
       "(array([  7., 375., 230., 207.,  43.,   5.,  24.,  15.,   3.,  18.,  23.,\n",
       "          2.,   6.,   7.,   2.,   3.,   2.,   1.,   0.,   7.,   4.,   0.,\n",
       "          3.,   1.,   1.,   3.,   1.,   1.,   1.,   2.,   0.,   0.,   1.,\n",
       "          1.,   0.,   0.,   0.,   0.,   0.,   1.]),\n",
       " array([5.72204590e-06, 6.40749931e-06, 7.09295273e-06, 7.77840614e-06,\n",
       "        8.46385956e-06, 9.14931297e-06, 9.83476639e-06, 1.05202198e-05,\n",
       "        1.12056732e-05, 1.18911266e-05, 1.25765800e-05, 1.32620335e-05,\n",
       "        1.39474869e-05, 1.46329403e-05, 1.53183937e-05, 1.60038471e-05,\n",
       "        1.66893005e-05, 1.73747540e-05, 1.80602074e-05, 1.87456608e-05,\n",
       "        1.94311142e-05, 2.01165676e-05, 2.08020210e-05, 2.14874744e-05,\n",
       "        2.21729279e-05, 2.28583813e-05, 2.35438347e-05, 2.42292881e-05,\n",
       "        2.49147415e-05, 2.56001949e-05, 2.62856483e-05, 2.69711018e-05,\n",
       "        2.76565552e-05, 2.83420086e-05, 2.90274620e-05, 2.97129154e-05,\n",
       "        3.03983688e-05, 3.10838223e-05, 3.17692757e-05, 3.24547291e-05,\n",
       "        3.31401825e-05]),\n",
       " <a list of 40 Patch objects>)"
      ]
     },
     "execution_count": 20,
     "metadata": {},
     "output_type": "execute_result"
    },
    {
     "data": {
      "image/png": "[encoded data removed]",
      "text/plain": [
       "<Figure size 432x288 with 2 Axes>"
      ]
     },
     "metadata": {
      "needs_background": "light"
     },
     "output_type": "display_data"
    }
   ],
   "source": [
    "#problem 6\n",
    "import matplotlib.pyplot as plt\n",
    "\n",
    "loopVector = np.empty([1000],dtype=float)\n",
    "opVector = np.empty([1000],dtype=float)\n",
    "for i in range(1000):\n",
    "    loopVector[i] = LoopAdd()\n",
    "    opVector[i] = OperatorAdd()\n",
    "    \n",
    "print(\"Standard Deviation loop:\",np.std(loopVector))\n",
    "print(\"Standard Deviation operator:\",np.std(opVector))\n",
    "print(\"Average of loop:\",np.mean(loopVector))\n",
    "print(\"Average of operator:\",np.mean(opVector))\n",
    "\n",
    "fig, axs = plt.subplots(1, 2, sharey=False, tight_layout=False)\n",
    "axs[0].hist(loopVector, bins = 40)\n",
    "axs[1].hist(opVector,bins=40)"
   ]
  },
  {
   "cell_type": "code",
   "execution_count": 7,
   "metadata": {},
   "outputs": [
    {
     "name": "stdout",
     "output_type": "stream",
     "text": [
      "file 10-02-19 @ 5.21 PM.txt\n"
     ]
    }
   ],
   "source": [
    "#problem 7\n",
    "import time \n",
    "\n",
    "def ConvertFilename(file_name):\n",
    "    #'date' and 'time' with be replaced by their correct format specifier for strftime()\n",
    "    file_name = file_name.replace(\"'date'\",\"%m-%d-%y\").replace(\"'time'\",\"%-I.%M% %p\")\n",
    "    #this passes the modified failename string to 'string format time' function\n",
    "    #which will fill the correct information based on the local time \n",
    "    return time.strftime(file_name, time.localtime()) #this string is returned\n",
    "\n",
    "\n",
    "file_x = \"file 'date' @ 'time'.txt\" #base format for a hypothetical filename\n",
    "#this will print the dynamically modified string that would be used for a filenme\n",
    "print(ConvertFilename(file_x)) \n",
    "\n"
   ]
  },
  {
   "cell_type": "code",
   "execution_count": null,
   "metadata": {},
   "outputs": [],
   "source": []
  }
 ],
 "metadata": {
  "kernelspec": {
   "display_name": "Python 3",
   "language": "python",
   "name": "python3"
  },
  "language_info": {
   "codemirror_mode": {
    "name": "ipython",
    "version": 3
   },
   "file_extension": ".py",
   "mimetype": "text/x-python",
   "name": "python",
   "nbconvert_exporter": "python",
   "pygments_lexer": "ipython3",
   "version": "3.7.3"
  }
 },
 "nbformat": 4,
 "nbformat_minor": 2
}
